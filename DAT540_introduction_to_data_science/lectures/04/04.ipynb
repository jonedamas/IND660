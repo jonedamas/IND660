{
 "cells": [
  {
   "cell_type": "markdown",
   "metadata": {
    "slideshow": {
     "slide_type": "slide"
    }
   },
   "source": [
    "# NumPy: Arrays and Vectorized Computations\n",
    "## DAT540 Introduction to Data Science\n",
    "## University of Stavanger\n",
    "\n",
    "#### Antorweep Chakravorty (antorweep.chakravorty@uis.no)"
   ]
  },
  {
   "cell_type": "markdown",
   "metadata": {},
   "source": [
    "- **NumPy** or *Numerical Python*, is one of the most important foundational package for numerical computing in python\n",
    " - *ndarray*, an efficient multidimensional array provides fast array-oriented arithmetic operations and flexible *broadcasting* capabilities\n",
    " - Mathematical functions for fast operations on entire array of data without having to write loops\n",
    " - Tools for reading/writing array data to disk and working with memory-mapped files\n",
    " - Linear algebra, random number generation and transformation capabilities\n",
    " - A C-API for connecting NumPy with libraries written in C, C++, or FORTRAN\n",
    " - NumPy C-API allows data to be easily passed to external libraries written in a low-level language and for external libraries to return data to python as NumPy arrays"
   ]
  },
  {
   "cell_type": "markdown",
   "metadata": {},
   "source": [
    "  - The main areas of functionality for the use of NumPy arrays for data analysis:\n",
    "    - Fast vectorized array operations for data mugging and cleaning, sub-setting, and filtering, transformation, and any kinds of computations\n",
    "    - Common array algorithms like sorting, unique, and set operations\n",
    "    - Efficient descriptive statistics and aggregating/summarizing data\n",
    "    - Data alignment and relational data manipulation for merging and joining heterogeneous datasets\n",
    "    - Expressing conditional logic as array expressions instead of loops \n",
    "    - Group-wise data manipulations (aggregation, transformation, function application)"
   ]
  },
  {
   "cell_type": "markdown",
   "metadata": {},
   "source": [
    "- NumPy based algorithms are generally 10 to 100 times faster than their pure python counterparts and use significantly less memory"
   ]
  },
  {
   "cell_type": "code",
   "execution_count": null,
   "metadata": {},
   "outputs": [],
   "source": [
    "import numpy as np\n",
    "#million numbers\n",
    "n = 1000000\n",
    "my_arr = np.arange(n)\n",
    "my_list = list(range(n))\n",
    "# Now let us multipy each sequence by 2"
   ]
  },
  {
   "cell_type": "code",
   "execution_count": null,
   "metadata": {},
   "outputs": [],
   "source": [
    "import sys"
   ]
  },
  {
   "cell_type": "code",
   "execution_count": null,
   "metadata": {},
   "outputs": [],
   "source": [
    "print(sys.getsizeof(my_arr)) #bytes\n",
    "%timeit my_arr * 2"
   ]
  },
  {
   "cell_type": "code",
   "execution_count": null,
   "metadata": {},
   "outputs": [],
   "source": [
    "print(sys.getsizeof(my_list)) #bytes\n",
    "%timeit [v * 2 for v in my_list]"
   ]
  },
  {
   "cell_type": "markdown",
   "metadata": {},
   "source": [
    "- **ndarray** a multidimensional array object that provides a fast and flexible container for large homogeneous datasets"
   ]
  },
  {
   "cell_type": "code",
   "execution_count": null,
   "metadata": {},
   "outputs": [],
   "source": [
    "import numpy as np\n",
    "data = np.random.randn(2,3)\n",
    "data"
   ]
  },
  {
   "cell_type": "markdown",
   "metadata": {},
   "source": [
    " - ndarrays also allows direct scalar and matrix operations "
   ]
  },
  {
   "cell_type": "code",
   "execution_count": null,
   "metadata": {},
   "outputs": [],
   "source": [
    "print(data * 10)\n",
    "print('-' * 100)\n",
    "print(data + data)"
   ]
  },
  {
   "cell_type": "markdown",
   "metadata": {},
   "source": [
    " - Each ndarray has a *shape* tuple describing the size dimensions, and  *dtype*, object describing the data type "
   ]
  },
  {
   "cell_type": "code",
   "execution_count": null,
   "metadata": {},
   "outputs": [],
   "source": [
    "print(data.shape)\n",
    "print(data.dtype)"
   ]
  },
  {
   "cell_type": "markdown",
   "metadata": {},
   "source": [
    " - ndarray can be created using the **array** function\n",
    " - It accepts any sequence-like object (including other arrays) and produces a new numpy array containing the passed data\n",
    "\n",
    "```python\n",
    "data1 = [6,7.5,8,0,1]\n",
    "arr1 = np.array(data)\n",
    "```\n",
    " - Nested sequences, like a list of equal-length list, will also be converted into a multidimensional array\n",
    "\n",
    "```python\n",
    "data2 = [[1,2,3,4], [5,6,7,8]]\n",
    "arr2 = np.array(data2)\n",
    "```\n",
    " - What will be shape of arr2?\n",
    " - In addition to *np.array*, there are other functions for creating new arrays.\n",
    " - **zeros** and **ones** create arrays of 0s or 1s respectively\n",
    " - **empty** would create an array that contains zeros, ones or garbage values"
   ]
  },
  {
   "cell_type": "code",
   "execution_count": null,
   "metadata": {},
   "outputs": [],
   "source": [
    "print(np.zeros(10))\n",
    "print('-' * 100)\n",
    "print(np.zeros((2,4))) # multidimentional\n",
    "print('-' * 100)\n",
    "print(np.ones(10))\n",
    "print('-' * 100)\n",
    "print(np.empty(10))"
   ]
  },
  {
   "cell_type": "markdown",
   "metadata": {},
   "source": [
    "  - **arange** is an array-valued version of built-in python *range* function"
   ]
  },
  {
   "cell_type": "code",
   "execution_count": null,
   "metadata": {},
   "outputs": [],
   "source": [
    "np.arange(15)"
   ]
  },
  {
   "cell_type": "markdown",
   "metadata": {},
   "source": [
    "  - Array creation functions\n",
    "\n",
    "  <img src='./images/arr_creation_func.png'>"
   ]
  },
  {
   "cell_type": "markdown",
   "metadata": {
    "slideshow": {
     "slide_type": "slide"
    }
   },
   "source": [
    "- *NumPy* - a multidimensional array object\n",
    "  - **Data Types**\n",
    "    - *dtype* is a special object containing the information / meta-data about the objects stored in a ndarray\n",
    "    - dtypes provide mapping directly onto an underlying disk or memory representation\n",
    "    - Allows easy read and write of binary stream of data to disk and to connect to code written in a low level language like C\n",
    "\n",
    "    <img src='./images/numpy_datatypes.png'>"
   ]
  },
  {
   "cell_type": "markdown",
   "metadata": {
    "slideshow": {
     "slide_type": "subslide"
    }
   },
   "source": [
    "  - A NumPy array can be converted or casted from one dtype to another using the ndarray's **astype** method\n",
    "  - astype accepts a NumPy data type or the dtype of an existing ndarray\n",
    "  - Calling astype always creates a new array (a copy of the data), even if the new dtype is the same as the old dtype"
   ]
  },
  {
   "cell_type": "code",
   "execution_count": null,
   "metadata": {
    "ExecuteTime": {
     "end_time": "2019-08-29T16:57:47.545602Z",
     "start_time": "2019-08-29T16:57:47.464615Z"
    },
    "slideshow": {
     "slide_type": "fragment"
    }
   },
   "outputs": [],
   "source": [
    "import numpy as np\n",
    "arr = np.arange(5)\n",
    "print(arr.dtype)\n",
    "arr = arr.astype(float)\n",
    "print(arr.dtype)"
   ]
  },
  {
   "cell_type": "code",
   "execution_count": null,
   "metadata": {},
   "outputs": [],
   "source": [
    "b = np.array([1.0,2,3], dtype=int) # the dtype can also be specified while creating the array\n",
    "print(b.dtype)\n",
    "b = b.astype(float)\n",
    "print(b.dtype)"
   ]
  },
  {
   "cell_type": "markdown",
   "metadata": {
    "slideshow": {
     "slide_type": "subslide"
    }
   },
   "source": [
    "- **Pseudorandom Number Generator**\n",
    "  - The numpy.random module supplements the build-in python random with functions for efficiency generating whole arrays of sampled values from different kinds of probability distributions\n",
    "  - They are termed as pseudorandom numbers because they are generated by an algorithm with deterministic behavior based on the *seed* of the random number generator\n",
    "  - The data generation functions in numpy.random use a global random seed\n",
    "  \n",
    "  ```python\n",
    "  import numpy as np\n",
    "  np.random.seed(123)\n",
    "  np.random.normal(size=(4,4))\n",
    "  ```\n",
    "  - To avoid global state, *numpy.random.RandomState* can be used to create a random number generator isolated from other\n",
    "  \n",
    "  ```python\n",
    "  import numpy as np\n",
    "  rgn = np.random.RandomState(1234)\n",
    "  rgn.normal(size=(4,4))\n",
    "  ```\n",
    "\n",
    "<img src='./images/np_random.png' width='450'>\n",
    "  "
   ]
  },
  {
   "cell_type": "markdown",
   "metadata": {
    "slideshow": {
     "slide_type": "subslide"
    }
   },
   "source": [
    " - Arithmetic Operations\n",
    "   - ndarray offers *vectorization*, that is allow batch operation on data without writing any for loops\n",
    "   - Any arithmetic operations between equal size arrays applies the operation element wise\n",
    "   - Operations with scalars propagate the scalar argument to each element in the array\n",
    "   - Comparisons between arrays of same size yields boolean arrays\n",
    "   - Operations between different sized arrays is called broadcasting"
   ]
  },
  {
   "cell_type": "code",
   "execution_count": null,
   "metadata": {
    "ExecuteTime": {
     "end_time": "2019-08-29T16:57:47.555030Z",
     "start_time": "2019-08-29T16:57:47.547766Z"
    },
    "slideshow": {
     "slide_type": "subslide"
    }
   },
   "outputs": [],
   "source": [
    "# Operation between two equally sized arrays\n",
    "arr1 = np.arange(4).reshape(2,2) # reshape shapes the array into the given share\n",
    "arr2 = np.arange(4, 8).reshape(2,2) # Here arange is generating numbers from 4 until 8\n",
    "print('arr1 shape:', arr1.shape)\n",
    "print('arr2 shape:', arr2.shape)\n",
    "\n",
    "# Operation between equal sized arrays are applied element wise\n",
    "result1 = arr1 * arr2\n",
    "print('op: arr1 * arr2')\n",
    "print(result1)\n",
    "print('op: arr1 - arr2')\n",
    "result2 = arr1 - arr2\n",
    "print(result2)"
   ]
  },
  {
   "cell_type": "code",
   "execution_count": null,
   "metadata": {
    "ExecuteTime": {
     "end_time": "2019-08-29T16:57:47.564470Z",
     "start_time": "2019-08-29T16:57:47.557216Z"
    },
    "slideshow": {
     "slide_type": "subslide"
    }
   },
   "outputs": [],
   "source": [
    "# Operation with scalars propagate the scalar argument to each element in the array\n",
    "result3 = arr1 / 10\n",
    "print('op: arr1 / 10')\n",
    "print(result3)\n",
    "\n",
    "# Comparisions between arrays of same size yields a boolean array\n",
    "np.random.seed(12345) # A random seed is a number used to initialize a pseudorandom number generator. \n",
    "arr3 = np.random.randint(-100, 100, size=4).reshape(2,2) # randint is used to generate random ints. args are low, high and size\n",
    "arr4 = np.random.randint(-100, 100, size=4).reshape(2,2) # reshape is used to structure a sequence on number into a shape\n",
    "result4 = arr4 > arr3\n",
    "print('op: arr4 > arr3')\n",
    "print(result4)"
   ]
  },
  {
   "cell_type": "markdown",
   "metadata": {
    "slideshow": {
     "slide_type": "subslide"
    }
   },
   "source": [
    " - **Basic Indexing and Slicing**\n",
    "   - Indexing and slicing on one dimensional ndarrays are similar to python lists on the surface\n",
    "   - If an scalar value is assigned to a slice, arr[5:8] = 12, the value is propagated (or broadcasted) to the entire section\n",
    "   - What happens if you do a bare slice assignment: arr[:] = 12 \n",
    "   - Array slice on ndarrays are views on the original array. The data does not get replicated or copied and any changes to the slice or view gets reflected to the original array\n",
    "   - A copy of a array slice can be created using *copy.copy* or directly the **copy** method of any dnarray   "
   ]
  },
  {
   "cell_type": "code",
   "execution_count": null,
   "metadata": {
    "ExecuteTime": {
     "end_time": "2019-08-29T16:57:47.572428Z",
     "start_time": "2019-08-29T16:57:47.567105Z"
    },
    "slideshow": {
     "slide_type": "subslide"
    }
   },
   "outputs": [],
   "source": [
    "#Basic Indexing and Slicing\n",
    "arr = np.arange(10)\n",
    "print('arr: ', arr)\n",
    "print(type(arr[5:8]))\n",
    "arr[5:8] = 12\n",
    "print('arr: ', arr)"
   ]
  },
  {
   "cell_type": "code",
   "execution_count": null,
   "metadata": {
    "ExecuteTime": {
     "end_time": "2019-08-29T16:57:47.581443Z",
     "start_time": "2019-08-29T16:57:47.574979Z"
    },
    "slideshow": {
     "slide_type": "fragment"
    }
   },
   "outputs": [],
   "source": [
    "import copy\n",
    "arr1 = copy.copy(arr[1:4])\n",
    "arr1[0] = 99\n",
    "arr2 = arr[7:10].copy()\n",
    "arr2[:] = 100\n",
    "print('arr1: ', arr1)\n",
    "print('arr2: ', arr2)\n",
    "print('arr: ', arr)"
   ]
  },
  {
   "cell_type": "markdown",
   "metadata": {
    "slideshow": {
     "slide_type": "subslide"
    }
   },
   "source": [
    "   - Elements in a multidimensional ndarray can be accessed directly by passing a comma separated list of indices to select individual elements\n",
    "\n",
    "<img src='./images/numpy_indexing.png' width='250'>"
   ]
  },
  {
   "cell_type": "code",
   "execution_count": null,
   "metadata": {
    "ExecuteTime": {
     "end_time": "2019-08-29T16:57:47.588462Z",
     "start_time": "2019-08-29T16:57:47.583583Z"
    },
    "slideshow": {
     "slide_type": "subslide"
    }
   },
   "outputs": [],
   "source": [
    "# accessing multidimentional arrays\n",
    "arr2d = np.random.randint(0, 100, 4).reshape(2,2)\n",
    "print('arr2d=', arr2d)\n",
    "print('arr2d[0][1]=', arr2d[0][1], ' is similar to arr2d[0,1]=', arr2d[0,1])"
   ]
  },
  {
   "cell_type": "code",
   "execution_count": null,
   "metadata": {
    "ExecuteTime": {
     "end_time": "2019-08-29T16:57:47.597839Z",
     "start_time": "2019-08-29T16:57:47.590337Z"
    },
    "slideshow": {
     "slide_type": "fragment"
    }
   },
   "outputs": [],
   "source": [
    "arr3d = np.random.randint(0, 100, 20).reshape(2,5,2)\n",
    "print('arr3d:\\n', arr3d.shape)\n",
    "print('2x2 array:\\n', arr3d[0].shape)\n",
    "print('1x2 array:\\n', arr3d[0, 1].shape)\n",
    "print('indivisual element:', arr3d[0, 1, 1])"
   ]
  },
  {
   "cell_type": "markdown",
   "metadata": {
    "slideshow": {
     "slide_type": "subslide"
    }
   },
   "source": [
    "   - Modifying and copying slices in a multidimensional array"
   ]
  },
  {
   "cell_type": "markdown",
   "metadata": {
    "slideshow": {
     "slide_type": "fragment"
    }
   },
   "source": [
    "   - **Indexing with slices**'\n",
    "    - 1d ndarrays can be slices in similar fashion to that of normal python lists\n",
    "    - multi-dimensional arrays can be sliced on each **axis** generating a view on a sub-array or element\n",
    "    - *axis* are the dimensions on a ndarray. For example a 3d array has 3 axes. "
   ]
  },
  {
   "cell_type": "code",
   "execution_count": null,
   "metadata": {
    "ExecuteTime": {
     "end_time": "2019-08-29T16:57:47.604106Z",
     "start_time": "2019-08-29T16:57:47.600236Z"
    },
    "slideshow": {
     "slide_type": "fragment"
    }
   },
   "outputs": [],
   "source": [
    "np.random.seed(123)\n",
    "arr1d = np.random.randint(0, 100, 5)\n",
    "print(arr1d[1:4]) # get all elements from index 1 until index 4"
   ]
  },
  {
   "cell_type": "code",
   "execution_count": null,
   "metadata": {
    "ExecuteTime": {
     "end_time": "2019-08-29T16:57:47.610720Z",
     "start_time": "2019-08-29T16:57:47.606126Z"
    },
    "slideshow": {
     "slide_type": "subslide"
    }
   },
   "outputs": [],
   "source": [
    "# Two dimentional array slicing\n",
    "arr2d = np.random.randint(0, 100, 9).reshape(3,3)\n",
    "print('complete arr2d:\\n', arr2d)\n",
    "print('sliced arr2d[:2]\\n', arr2d[:2]) # get all sub-arrays from index 0 until index 2 on axis 0"
   ]
  },
  {
   "cell_type": "code",
   "execution_count": null,
   "metadata": {
    "ExecuteTime": {
     "end_time": "2019-08-29T16:57:47.616683Z",
     "start_time": "2019-08-29T16:57:47.612544Z"
    },
    "slideshow": {
     "slide_type": "fragment"
    }
   },
   "outputs": [],
   "source": [
    "# get all sub-arrays from index 0 until index 2 on axis 0 and from index 1 until index 3 on axis 1\n",
    "print('sliced arr2d[:2, 1:3]\\n', arr2d[:2, 1:3]) "
   ]
  },
  {
   "cell_type": "code",
   "execution_count": null,
   "metadata": {},
   "outputs": [],
   "source": [
    "arr = np.arange(10)\n",
    "print('arr:', arr)\n",
    "print('arr-f:', arr[0:5:2])\n",
    "print('arr-b:', arr[-5::3])"
   ]
  },
  {
   "cell_type": "markdown",
   "metadata": {
    "slideshow": {
     "slide_type": "fragment"
    }
   },
   "source": [
    "\n",
    "<img src='./images/2darray_slicing.png' width='150'>"
   ]
  },
  {
   "cell_type": "code",
   "execution_count": null,
   "metadata": {
    "ExecuteTime": {
     "end_time": "2019-08-29T16:57:47.624074Z",
     "start_time": "2019-08-29T16:57:47.618572Z"
    },
    "slideshow": {
     "slide_type": "subslide"
    }
   },
   "outputs": [],
   "source": [
    "#Swapping Values\n",
    "np.random.seed(123)\n",
    "arr3d = np.random.randint(0, 100, 8).reshape(2,2,2)\n",
    "print('arr3d (original):\\n', arr3d)\n",
    "print('shape of array', arr3d.shape)\n",
    "print('slice 0,0', arr3d[0,0])"
   ]
  },
  {
   "cell_type": "code",
   "execution_count": null,
   "metadata": {},
   "outputs": [],
   "source": [
    "# Swapping values at arr3d[0,0] with arr3d[1,1]\n",
    "temp = arr3d[0,0]\n",
    "arr3d[0,0] = arr3d[1,1] # assigning a multi-dimentional sequence\n",
    "arr3d[1,1] = temp # is it a success?"
   ]
  },
  {
   "cell_type": "code",
   "execution_count": null,
   "metadata": {
    "ExecuteTime": {
     "end_time": "2019-08-29T16:57:47.631067Z",
     "start_time": "2019-08-29T16:57:47.625960Z"
    },
    "slideshow": {
     "slide_type": "fragment"
    }
   },
   "outputs": [],
   "source": [
    "print('arr3d (swapped):\\n', arr3d) # Why?"
   ]
  },
  {
   "cell_type": "code",
   "execution_count": null,
   "metadata": {
    "ExecuteTime": {
     "end_time": "2019-08-29T16:57:47.639339Z",
     "start_time": "2019-08-29T16:57:47.633440Z"
    },
    "slideshow": {
     "slide_type": "subslide"
    }
   },
   "outputs": [],
   "source": [
    "#Swapping Values\n",
    "np.random.seed(123)\n",
    "arr3d = np.random.randint(0, 100, 8).reshape(2,2,2)\n",
    "print('arr3d (original):\\n', arr3d)\n",
    "# Swapping values at arr3d[0,0] with arr3d[1,1]. The right way\n",
    "temp = arr3d[0,0].copy() # store a copy\n",
    "arr3d[0,0] = arr3d[1,1] # assigning a multi-dimentional sequence\n",
    "arr3d[1,1] = temp \n",
    "print('arr3d (swapped):\\n', arr3d)"
   ]
  },
  {
   "cell_type": "code",
   "execution_count": null,
   "metadata": {
    "ExecuteTime": {
     "end_time": "2019-08-29T16:57:47.646688Z",
     "start_time": "2019-08-29T16:57:47.641462Z"
    },
    "slideshow": {
     "slide_type": "subslide"
    }
   },
   "outputs": [],
   "source": [
    "# What happens when we only swap a single element\n",
    "# Swapping values at arr3d[0,0,0] with arr3d[1,1,1] and vice versa\n",
    "np.random.seed(123)\n",
    "arr3d = np.random.randint(0, 100, 8).reshape(2,2,2)\n",
    "print('arr3d (original): \\n', arr3d)\n",
    "\n",
    "temp = arr3d[0,0,0]\n",
    "arr3d[0,0,0] = arr3d[1,1,1] # assigning a single element\n",
    "arr3d[1,1,1] = temp"
   ]
  },
  {
   "cell_type": "code",
   "execution_count": null,
   "metadata": {
    "ExecuteTime": {
     "end_time": "2019-08-29T16:57:47.652730Z",
     "start_time": "2019-08-29T16:57:47.648956Z"
    },
    "slideshow": {
     "slide_type": "fragment"
    }
   },
   "outputs": [],
   "source": [
    "print('arr3d (swapped):\\n', arr3d)"
   ]
  },
  {
   "cell_type": "markdown",
   "metadata": {
    "slideshow": {
     "slide_type": "subslide"
    }
   },
   "source": [
    "  - **Boolean Indexing**\n",
    "  "
   ]
  },
  {
   "cell_type": "code",
   "execution_count": null,
   "metadata": {
    "ExecuteTime": {
     "end_time": "2019-08-30T11:49:08.321254Z",
     "start_time": "2019-08-30T11:49:08.304249Z"
    },
    "slideshow": {
     "slide_type": "fragment"
    }
   },
   "outputs": [],
   "source": [
    "np.random.seed(123)\n",
    "data = np.random.randn(7, 4) # randn function generates a random normally distribution. args: d1, d2, ... describes the shape of the returned array\n",
    "names = np.array(['Bob', 'Bob', 'Will', 'Joe', 'Will', 'Joe', 'Joe'])\n",
    "names"
   ]
  },
  {
   "cell_type": "code",
   "execution_count": null,
   "metadata": {
    "ExecuteTime": {
     "end_time": "2019-08-30T11:49:08.848717Z",
     "start_time": "2019-08-30T11:49:08.840648Z"
    },
    "slideshow": {
     "slide_type": "fragment"
    }
   },
   "outputs": [],
   "source": [
    "data"
   ]
  },
  {
   "cell_type": "markdown",
   "metadata": {
    "slideshow": {
     "slide_type": "fragment"
    }
   },
   "source": [
    "   - Let each name corresponds to a row in the data array\n",
    "   - We want to select all rows with corresponding name 'Bob'\n",
    "   - Like arithmetic operations, comparisons (eg. ==) with arrays are also vectorized, returning a boolean array"
   ]
  },
  {
   "cell_type": "code",
   "execution_count": null,
   "metadata": {
    "ExecuteTime": {
     "end_time": "2019-08-30T11:49:09.725919Z",
     "start_time": "2019-08-30T11:49:09.718147Z"
    },
    "slideshow": {
     "slide_type": "subslide"
    }
   },
   "outputs": [],
   "source": [
    "names == 'Bob'"
   ]
  },
  {
   "cell_type": "markdown",
   "metadata": {
    "slideshow": {
     "slide_type": "fragment"
    }
   },
   "source": [
    "   - The boolean array can be passed when indexing the array"
   ]
  },
  {
   "cell_type": "code",
   "execution_count": null,
   "metadata": {
    "ExecuteTime": {
     "end_time": "2019-08-30T11:49:10.481452Z",
     "start_time": "2019-08-30T11:49:10.475180Z"
    },
    "slideshow": {
     "slide_type": "fragment"
    }
   },
   "outputs": [],
   "source": [
    "data[names == 'Bob']"
   ]
  },
  {
   "cell_type": "markdown",
   "metadata": {
    "slideshow": {
     "slide_type": "fragment"
    }
   },
   "source": [
    "   - The boolean array must be of the same length as the array axis it's indexing\n",
    "   - Boolean array for indexing can be also combined with other boolean arrays or even other sequences for slicing an array on different axis"
   ]
  },
  {
   "cell_type": "code",
   "execution_count": null,
   "metadata": {
    "ExecuteTime": {
     "end_time": "2019-08-30T11:49:11.683653Z",
     "start_time": "2019-08-30T11:49:11.678163Z"
    },
    "slideshow": {
     "slide_type": "fragment"
    }
   },
   "outputs": [],
   "source": [
    "data[names == 'Bob', 2:3]"
   ]
  },
  {
   "cell_type": "markdown",
   "metadata": {
    "slideshow": {
     "slide_type": "subslide"
    }
   },
   "source": [
    "   - To select everything but 'Bob', we can use the operators **\\~**  or **!**"
   ]
  },
  {
   "cell_type": "code",
   "execution_count": null,
   "metadata": {
    "ExecuteTime": {
     "end_time": "2019-08-30T11:49:13.370578Z",
     "start_time": "2019-08-30T11:49:13.362247Z"
    },
    "slideshow": {
     "slide_type": "fragment"
    }
   },
   "outputs": [],
   "source": [
    "print(data[names != 'Bob'])\n",
    "print(' ')\n",
    "print(data[~ (names == 'Bob')])"
   ]
  },
  {
   "cell_type": "markdown",
   "metadata": {
    "slideshow": {
     "slide_type": "fragment"
    }
   },
   "source": [
    "   - Multiple boolean conditions can be combined using the **&** (and) or **|** (or) symbols"
   ]
  },
  {
   "cell_type": "code",
   "execution_count": null,
   "metadata": {
    "ExecuteTime": {
     "end_time": "2019-08-30T11:49:14.663464Z",
     "start_time": "2019-08-30T11:49:14.658615Z"
    },
    "slideshow": {
     "slide_type": "fragment"
    }
   },
   "outputs": [],
   "source": [
    "print(data[(names == 'Bob') | (names == 'Will')])"
   ]
  },
  {
   "cell_type": "code",
   "execution_count": null,
   "metadata": {
    "ExecuteTime": {
     "end_time": "2019-08-30T11:49:16.136260Z",
     "start_time": "2019-08-30T11:49:16.131804Z"
    },
    "slideshow": {
     "slide_type": "subslide"
    }
   },
   "outputs": [],
   "source": [
    "np.random.seed(123)\n",
    "data = np.random.randn(7, 4)\n",
    "print(names == 'Bob')\n",
    "data1 = data[0:2, 1:3] #Bob is present on axis=0 indices 0 and 1. Using basic indexing here\n",
    "data1[:] = -1"
   ]
  },
  {
   "cell_type": "code",
   "execution_count": null,
   "metadata": {
    "ExecuteTime": {
     "end_time": "2019-08-30T11:49:18.093388Z",
     "start_time": "2019-08-30T11:49:18.087712Z"
    },
    "slideshow": {
     "slide_type": "fragment"
    }
   },
   "outputs": [],
   "source": [
    "print('data:\\n', data)\n",
    "print('data1:\\n', data1)"
   ]
  },
  {
   "cell_type": "code",
   "execution_count": null,
   "metadata": {
    "ExecuteTime": {
     "end_time": "2019-08-30T11:49:21.737105Z",
     "start_time": "2019-08-30T11:49:21.730956Z"
    },
    "slideshow": {
     "slide_type": "subslide"
    }
   },
   "outputs": [],
   "source": [
    "data2 = data[names == 'Bob', 1:3]\n",
    "data2[:] = 0"
   ]
  },
  {
   "cell_type": "code",
   "execution_count": null,
   "metadata": {
    "ExecuteTime": {
     "end_time": "2019-08-30T11:49:23.140464Z",
     "start_time": "2019-08-30T11:49:23.132244Z"
    },
    "slideshow": {
     "slide_type": "fragment"
    }
   },
   "outputs": [],
   "source": [
    "print('data:\\n', data)\n",
    "print('data2:\\n', data2)"
   ]
  },
  {
   "cell_type": "markdown",
   "metadata": {
    "slideshow": {
     "slide_type": "fragment"
    }
   },
   "source": [
    "   - Selecting data from an array by boolean indexing always creates a **copy** of the data even if the array is unchanged"
   ]
  },
  {
   "cell_type": "markdown",
   "metadata": {
    "slideshow": {
     "slide_type": "subslide"
    }
   },
   "source": [
    " - **Fancy Indexing**\n",
    "    - Fancy indexing is used to describe indexing using integers arrays"
   ]
  },
  {
   "cell_type": "code",
   "execution_count": null,
   "metadata": {
    "ExecuteTime": {
     "end_time": "2019-08-29T16:57:47.756279Z",
     "start_time": "2019-08-29T16:57:47.746250Z"
    },
    "slideshow": {
     "slide_type": "fragment"
    }
   },
   "outputs": [],
   "source": [
    "# Creating a 8x4 array where each row has the index number as value for all its columns\n",
    "arr = np.empty((8, 4))\n",
    "for i in range(8):\n",
    "    arr[i] = i\n",
    "arr"
   ]
  },
  {
   "cell_type": "code",
   "execution_count": null,
   "metadata": {
    "ExecuteTime": {
     "end_time": "2019-08-29T16:57:47.765965Z",
     "start_time": "2019-08-29T16:57:47.759351Z"
    },
    "slideshow": {
     "slide_type": "fragment"
    }
   },
   "outputs": [],
   "source": [
    "# Slicing using fancy indexing on axis=0\n",
    "arr[[1,3,2,1,7]] # What do you observe here?"
   ]
  },
  {
   "cell_type": "code",
   "execution_count": null,
   "metadata": {
    "ExecuteTime": {
     "end_time": "2019-08-29T16:57:47.775744Z",
     "start_time": "2019-08-29T16:57:47.769527Z"
    },
    "slideshow": {
     "slide_type": "fragment"
    }
   },
   "outputs": [],
   "source": [
    "# Using negative indices\n",
    "arr[[-1,-3,-2]]"
   ]
  },
  {
   "cell_type": "markdown",
   "metadata": {
    "slideshow": {
     "slide_type": "subslide"
    }
   },
   "source": [
    "   - Passing a multidimensional array to slice on multiple axis results in a one dimensional array of elements corresponding to each tuple of indices\n",
    "   - the shape of the arrays for each axis needs to be the same or scalar for all but array on axis=0"
   ]
  },
  {
   "cell_type": "code",
   "execution_count": null,
   "metadata": {
    "ExecuteTime": {
     "end_time": "2019-08-29T16:57:47.784116Z",
     "start_time": "2019-08-29T16:57:47.778126Z"
    },
    "slideshow": {
     "slide_type": "fragment"
    }
   },
   "outputs": [],
   "source": [
    "arr = np.arange(16).reshape(4,4)\n",
    "arr"
   ]
  },
  {
   "cell_type": "code",
   "execution_count": null,
   "metadata": {
    "ExecuteTime": {
     "end_time": "2019-08-29T16:57:47.791624Z",
     "start_time": "2019-08-29T16:57:47.786378Z"
    },
    "slideshow": {
     "slide_type": "fragment"
    }
   },
   "outputs": [],
   "source": [
    "arr[[1,3,2], [0,3,2]]"
   ]
  },
  {
   "cell_type": "markdown",
   "metadata": {
    "slideshow": {
     "slide_type": "fragment"
    }
   },
   "source": [
    "   - In order to get the slice on each axis using multidimensional arrays, first select the rows(axis=0) and for those rows do indexing on the columns(axis=1) and so forth, it can be done as follows:"
   ]
  },
  {
   "cell_type": "code",
   "execution_count": null,
   "metadata": {
    "ExecuteTime": {
     "end_time": "2019-08-29T16:57:47.799564Z",
     "start_time": "2019-08-29T16:57:47.794303Z"
    },
    "slideshow": {
     "slide_type": "fragment"
    }
   },
   "outputs": [],
   "source": [
    "arr[[1,3,2]][:,[0,3,2]]"
   ]
  },
  {
   "cell_type": "markdown",
   "metadata": {
    "slideshow": {
     "slide_type": "fragment"
    }
   },
   "source": [
    "   - Like **boolean indexing**, **fancy indexing** also creates a *copy* of the array"
   ]
  },
  {
   "cell_type": "markdown",
   "metadata": {
    "slideshow": {
     "slide_type": "subslide"
    }
   },
   "source": [
    " - **Transposing Arrays and Swapping Axes**\n",
    "   - Transposing is a form of reshaping that returns a view on the underlying data without copying.\n",
    "   - Arrays have the *transpose* method and also the special attribute *T*"
   ]
  },
  {
   "cell_type": "code",
   "execution_count": null,
   "metadata": {
    "ExecuteTime": {
     "end_time": "2019-08-29T16:57:47.808058Z",
     "start_time": "2019-08-29T16:57:47.802719Z"
    },
    "slideshow": {
     "slide_type": "fragment"
    }
   },
   "outputs": [],
   "source": [
    "arr = np.arange(15).reshape(3,5)\n",
    "print('arr:\\n', arr)\n",
    "print('arr.T:\\n', arr.T) # rows become cols and cols become rows. The shape also changes\n",
    "a1 = arr.T"
   ]
  },
  {
   "cell_type": "markdown",
   "metadata": {
    "slideshow": {
     "slide_type": "fragment"
    }
   },
   "source": [
    "   - Transposing is useful while performing matrix computations.\n",
    "   - For example, the inner matrix product can be computed using np.dot"
   ]
  },
  {
   "cell_type": "code",
   "execution_count": null,
   "metadata": {
    "ExecuteTime": {
     "end_time": "2019-08-29T16:57:47.863878Z",
     "start_time": "2019-08-29T16:57:47.811010Z"
    },
    "slideshow": {
     "slide_type": "fragment"
    }
   },
   "outputs": [],
   "source": [
    "arr = np.random.randn(2,2)\n",
    "np.dot(arr, arr.T)"
   ]
  },
  {
   "cell_type": "markdown",
   "metadata": {
    "slideshow": {
     "slide_type": "subslide"
    }
   },
   "source": [
    "   - For higher dimensional arrays, *transpose* might also accept a tuple of axis numbers to permute the axes\n",
    "   "
   ]
  },
  {
   "cell_type": "code",
   "execution_count": null,
   "metadata": {
    "ExecuteTime": {
     "end_time": "2019-08-29T16:57:47.870947Z",
     "start_time": "2019-08-29T16:57:47.865893Z"
    },
    "slideshow": {
     "slide_type": "fragment"
    }
   },
   "outputs": [],
   "source": [
    "arr = np.arange(24).reshape(2,3,4)\n",
    "arr"
   ]
  },
  {
   "cell_type": "code",
   "execution_count": null,
   "metadata": {
    "ExecuteTime": {
     "end_time": "2019-08-29T16:57:47.881238Z",
     "start_time": "2019-08-29T16:57:47.875070Z"
    },
    "slideshow": {
     "slide_type": "fragment"
    }
   },
   "outputs": [],
   "source": [
    "# Transpose without any arguments acts the same way as T. It also means that we are transposing on all axis\n",
    "arr.transpose()"
   ]
  },
  {
   "cell_type": "code",
   "execution_count": null,
   "metadata": {
    "ExecuteTime": {
     "end_time": "2019-08-29T16:57:47.891096Z",
     "start_time": "2019-08-29T16:57:47.884061Z"
    },
    "slideshow": {
     "slide_type": "subslide"
    }
   },
   "outputs": [],
   "source": [
    "print('arr:\\n', arr)\n",
    "# If we want to transpose on only certain axis\n",
    "arr.transpose((1,0,2)) # Here we transpose only axis 0 and 1 and keep 2 unchanged"
   ]
  },
  {
   "cell_type": "markdown",
   "metadata": {
    "slideshow": {
     "slide_type": "subslide"
    }
   },
   "source": [
    "   - **swapaxes** is a method that takes a pair of axis numbers and switches the indicated axes to rearrange the data"
   ]
  },
  {
   "cell_type": "code",
   "execution_count": null,
   "metadata": {
    "ExecuteTime": {
     "end_time": "2019-08-29T16:57:47.899857Z",
     "start_time": "2019-08-29T16:57:47.893539Z"
    },
    "slideshow": {
     "slide_type": "fragment"
    }
   },
   "outputs": [],
   "source": [
    "arr"
   ]
  },
  {
   "cell_type": "code",
   "execution_count": null,
   "metadata": {
    "ExecuteTime": {
     "end_time": "2019-08-29T16:57:47.908664Z",
     "start_time": "2019-08-29T16:57:47.902024Z"
    },
    "slideshow": {
     "slide_type": "fragment"
    }
   },
   "outputs": [],
   "source": [
    "arr.swapaxes(0,1) # same as arr.transpose((1,0,2))"
   ]
  },
  {
   "cell_type": "markdown",
   "metadata": {
    "slideshow": {
     "slide_type": "slide"
    }
   },
   "source": [
    "- Universal Functions (*ufunc*): Fast Element Wise Array Functions\n",
    "  - Performs element wise operations on data in ndarrays\n",
    "  - They act as vectorized wrappers for simple functions that take one or more scalar values and produce one or more scalar results\n",
    "  - Most ufuncs are simple element wise transformations on an array, like sqrt or exp and are called as *unary* ufuncs\n",
    "\n",
    "<img src='./images/unary_ufuncs.png' width='400'>"
   ]
  },
  {
   "cell_type": "code",
   "execution_count": null,
   "metadata": {
    "ExecuteTime": {
     "end_time": "2019-08-29T16:57:47.918160Z",
     "start_time": "2019-08-29T16:57:47.911575Z"
    },
    "slideshow": {
     "slide_type": "fragment"
    }
   },
   "outputs": [],
   "source": [
    "arr = np.arange(5)\n",
    "print('arr: ', arr)\n",
    "print('np.sqrt: ', np.sqrt(arr))\n",
    "print('np.exp: ', np.exp(arr))\n"
   ]
  },
  {
   "cell_type": "markdown",
   "metadata": {
    "slideshow": {
     "slide_type": "subslide"
    }
   },
   "source": [
    "   - *binary* ufuncs take two arrays and return a single array as result, like maximum or add\n",
    "\n",
    "<img src='./images/binary_ufuncs.png' width='250'>"
   ]
  },
  {
   "cell_type": "code",
   "execution_count": null,
   "metadata": {
    "ExecuteTime": {
     "end_time": "2019-08-29T16:57:47.927177Z",
     "start_time": "2019-08-29T16:57:47.920512Z"
    },
    "slideshow": {
     "slide_type": "fragment"
    }
   },
   "outputs": [],
   "source": [
    "x = np.random.randn(8)\n",
    "y = np.random.randn(8)\n",
    "np.maximum(x,y)"
   ]
  },
  {
   "cell_type": "markdown",
   "metadata": {
    "slideshow": {
     "slide_type": "subslide"
    }
   },
   "source": [
    "   - There are also ufuncs that can return multiple arrays, like modf that returns fractional and integral parts of a floating point array"
   ]
  },
  {
   "cell_type": "code",
   "execution_count": null,
   "metadata": {
    "ExecuteTime": {
     "end_time": "2019-08-29T16:57:47.937402Z",
     "start_time": "2019-08-29T16:57:47.929849Z"
    },
    "slideshow": {
     "slide_type": "fragment"
    }
   },
   "outputs": [],
   "source": [
    "arr = np.random.randint(1, 10, 10) * 5.7\n",
    "remainder, whole_part = np.modf(arr)\n",
    "print('arr: ', arr)\n",
    "print('remainder: ', remainder)\n",
    "print('whole_part: ', whole_part)"
   ]
  },
  {
   "cell_type": "markdown",
   "metadata": {
    "slideshow": {
     "slide_type": "subslide"
    }
   },
   "source": [
    "  - ufunc instance methods\n",
    "    - Each NumPy ufuncs has special methods for performing certain kinds of special vectorized operations\n",
    "\n",
    "<img src='./images/ufuncs_instance_methods.png'>"
   ]
  },
  {
   "cell_type": "code",
   "execution_count": null,
   "metadata": {
    "ExecuteTime": {
     "end_time": "2019-08-29T16:57:47.946557Z",
     "start_time": "2019-08-29T16:57:47.939800Z"
    },
    "slideshow": {
     "slide_type": "subslide"
    }
   },
   "outputs": [],
   "source": [
    "# reduce takes a single array and aggregates its values, optionally along an axis, by performing a sequence of binary operations\n",
    "# sum elements in an array\n",
    "arr = np.arange(10).reshape(2,5)\n",
    "print(arr)\n",
    "np.add.reduce(arr)"
   ]
  },
  {
   "cell_type": "code",
   "execution_count": null,
   "metadata": {
    "ExecuteTime": {
     "end_time": "2019-08-29T16:57:47.984318Z",
     "start_time": "2019-08-29T16:57:47.976976Z"
    },
    "slideshow": {
     "slide_type": "subslide"
    }
   },
   "outputs": [],
   "source": [
    "# accumulate produces an array of same size with the intermediate accumulated or cumulative sum values\n",
    "arr = np.arange(4).reshape(2,2)\n",
    "print('arr:\\n', arr)\n",
    "print('np.add.accumulate(arr):\\n', np.add.accumulate(arr)) \n",
    "print('np.add.accumulate(arr, axis=1):\\n', np.add.accumulate(arr, axis=1)) "
   ]
  },
  {
   "cell_type": "code",
   "execution_count": null,
   "metadata": {
    "ExecuteTime": {
     "end_time": "2019-08-30T12:06:29.850407Z",
     "start_time": "2019-08-30T12:06:29.844231Z"
    },
    "slideshow": {
     "slide_type": "fragment"
    }
   },
   "outputs": [],
   "source": [
    "# repeate duplicates values on specified indices and axis\n",
    "arr = np.arange(3).repeat([1,2,2])\n",
    "arr"
   ]
  },
  {
   "cell_type": "code",
   "execution_count": null,
   "metadata": {
    "ExecuteTime": {
     "end_time": "2019-08-29T16:57:48.004423Z",
     "start_time": "2019-08-29T16:57:47.998125Z"
    },
    "slideshow": {
     "slide_type": "fragment"
    }
   },
   "outputs": [],
   "source": [
    "# outer performs a pairwise cross-product between two arrays\n",
    "arr1 = np.arange(3)\n",
    "np.multiply.outer(arr, arr1) # outer will have a dimension that is the sum of the dimensions of the inputs"
   ]
  },
  {
   "cell_type": "code",
   "execution_count": null,
   "metadata": {
    "ExecuteTime": {
     "end_time": "2019-08-29T16:57:48.014335Z",
     "start_time": "2019-08-29T16:57:48.007247Z"
    },
    "slideshow": {
     "slide_type": "fragment"
    }
   },
   "outputs": [],
   "source": [
    "# reduceat performs local reduce, in essence an array groupby operation in which slices of the array are aggregated together\n",
    "# it accepts a sequence of \"bin edges\" that indicates how to split and aggrregate the values\n",
    "arr = np.arange(10)\n",
    "print('arr:\\n', arr)\n",
    "# The results are the reductions performed over arr[0:5], arr[5:8], and arr[8:]\n",
    "# As with other methods, the axis argument can also be passed\n",
    "np.add.reduceat(arr, [0, 5, 8])"
   ]
  },
  {
   "cell_type": "markdown",
   "metadata": {
    "slideshow": {
     "slide_type": "subslide"
    }
   },
   "source": [
    "  - Writing new ufuncs in python\n",
    "    - **numpy.frompyfunc** accepts a python function along with a specification for number of inputs and outputs"
   ]
  },
  {
   "cell_type": "code",
   "execution_count": null,
   "metadata": {
    "ExecuteTime": {
     "end_time": "2019-08-29T16:57:48.023841Z",
     "start_time": "2019-08-29T16:57:48.016865Z"
    },
    "slideshow": {
     "slide_type": "fragment"
    }
   },
   "outputs": [],
   "source": [
    "# Creating a add element-wise function\n",
    "def add_elements(x, y):\n",
    "    return x + y\n",
    "\n",
    "add_them = np.frompyfunc(add_elements, 2, 1) # we could also use a lambda function instead of add_elements\n",
    "add_them(np.arange(8), np.arange(8))"
   ]
  }
 ],
 "metadata": {
  "celltoolbar": "Slideshow",
  "kernelspec": {
   "display_name": "Python 3.8.9 64-bit",
   "language": "python",
   "name": "python3"
  },
  "language_info": {
   "codemirror_mode": {
    "name": "ipython",
    "version": 3
   },
   "file_extension": ".py",
   "mimetype": "text/x-python",
   "name": "python",
   "nbconvert_exporter": "python",
   "pygments_lexer": "ipython3",
   "version": "3.10.9"
  },
  "toc": {
   "base_numbering": 1,
   "nav_menu": {},
   "number_sections": true,
   "sideBar": true,
   "skip_h1_title": false,
   "title_cell": "Table of Contents",
   "title_sidebar": "Contents",
   "toc_cell": false,
   "toc_position": {},
   "toc_section_display": true,
   "toc_window_display": false
  },
  "varInspector": {
   "cols": {
    "lenName": 16,
    "lenType": 16,
    "lenVar": 40
   },
   "kernels_config": {
    "python": {
     "delete_cmd_postfix": "",
     "delete_cmd_prefix": "del ",
     "library": "var_list.py",
     "varRefreshCmd": "print(var_dic_list())"
    },
    "r": {
     "delete_cmd_postfix": ") ",
     "delete_cmd_prefix": "rm(",
     "library": "var_list.r",
     "varRefreshCmd": "cat(var_dic_list()) "
    }
   },
   "types_to_exclude": [
    "module",
    "function",
    "builtin_function_or_method",
    "instance",
    "_Feature"
   ],
   "window_display": false
  },
  "vscode": {
   "interpreter": {
    "hash": "31f2aee4e71d21fbe5cf8b01ff0e069b9275f58929596ceb00d14d90e3e16cd6"
   }
  }
 },
 "nbformat": 4,
 "nbformat_minor": 2
}
