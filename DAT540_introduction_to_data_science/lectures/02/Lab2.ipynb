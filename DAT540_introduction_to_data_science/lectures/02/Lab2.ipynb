{
 "cells": [
  {
   "cell_type": "markdown",
   "metadata": {},
   "source": [
    "# Lab 2: Introduction to Python Basics, Data Structures, Variable Operations, and Working with Functions"
   ]
  },
  {
   "cell_type": "markdown",
   "metadata": {},
   "source": [
    "### Question 1\n",
    "\n",
    "s = \"Could I get it ?\"\n",
    "\n",
    "Starting from the string s, do all necessary changes in order to print the expected result: `\"I got it !\"`\n",
    "\n",
    "*Hint*: \n",
    "* step1: Use slicing to extract \"I get it \" from variable s (including the space at the end)\n",
    "\n",
    "*Expected*: `\"step 1: I get it \"`\n",
    "    \n",
    "* step2: Use method `replace()` to change \"e\" to \"o\" (in the word get)\n",
    "\n",
    "*Expected*: `\"step 2: I got it \"`\n",
    "\n",
    "* step3: Use operator + to add \"!\" at the end of the string\n",
    "\n",
    "*Expected*: `\"step 3: I got it !\"`\n",
    "\n",
    "*IMPORTANT*: \n",
    "\n",
    "*Strings are immutable*. So while you follow each step, you need to rename your new string"
   ]
  },
  {
   "cell_type": "code",
   "execution_count": null,
   "metadata": {},
   "outputs": [],
   "source": [
    "# Your solution\n",
    "s = \"Could I get it ?\"\n",
    "\n",
    "#step1 = \n",
    "#print(\"step 1:\", step1)\n",
    "\n",
    "#step2 = \n",
    "#print(\"step 2:\", step2)\n",
    "\n",
    "#step3 = \n",
    "#print(\"step 3:\", step3)"
   ]
  },
  {
   "cell_type": "markdown",
   "metadata": {},
   "source": [
    "___"
   ]
  },
  {
   "cell_type": "markdown",
   "metadata": {},
   "source": [
    "### Question 2\n",
    "What is the difference between global and local variables ?\n",
    "\n",
    "Create two functions to understand the difference between a local and a global variable."
   ]
  },
  {
   "cell_type": "code",
   "execution_count": 1,
   "metadata": {},
   "outputs": [
    {
     "name": "stdout",
     "output_type": "stream",
     "text": [
      "x + y = 12\n",
      "x + y = 4\n"
     ]
    }
   ],
   "source": [
    "x = 10\n",
    " \n",
    "def func_global(y):\n",
    "  global x  # the variable x is declared globally (out of the function)\n",
    "  print('x + y =', x + y)\n",
    "\n",
    "func_global(2)\n",
    "\n",
    "\n",
    "def func_local(y):\n",
    "  x = 2  # the variable x is declared locally\n",
    "  print('x + y =', x + y)\n",
    "\n",
    "func_local(2)"
   ]
  },
  {
   "cell_type": "markdown",
   "metadata": {},
   "source": [
    "---"
   ]
  },
  {
   "cell_type": "markdown",
   "metadata": {},
   "source": [
    "### Question 3\n",
    "1. Combine the 3 initial variables (s1, s2, s3) with changes if needed in order to print the expected result: `\"welcome HOME !\"`\n",
    "\n",
    "*Hint*: \n",
    "* Use slicing on s3 in order to get \"!\"\n",
    "* Use operator + in order to combine s1, s2 and s3\n",
    "\n",
    "*Code NOT expected*: \n",
    "\n",
    "    s3 = \"!\"\n",
    "    print(s1 + s2 + s3)\n",
    "\n",
    "    \n",
    "2. Combine the 3 initial variables (s1, s2, s3) with changes if needed in order to print the expected result: `\"welcome home !\"`\n",
    "\n",
    "*Hint*: Use operator += in order to combine successively the changes of s2 and s3\n",
    "\n",
    "*Code NOT expected*: \n",
    "    \n",
    "    s2 = \"home \"\n",
    "    s3 = \"!\"\n",
    "    print(s1 + s2 + s3)\n",
    "    \n",
    "3.  Combine the 3 initial variables (s1, s2, s3) with changes if needed in order to print the expected result: `\"Welcome home !\"`\n",
    "\n",
    "*Hint*: \n",
    "* use function `join()`\n",
    "* use function `string.capswords()` in order to get \"Welcome\"\n",
    "* use function `lower()` in order to get \"home\"\n",
    "* use slicing on s3 in order to get \"!\"\n",
    "\n",
    "*Code NOT expected*: \n",
    "    \n",
    "    s1 = \"Welcome \"\n",
    "    s2 = 'home '\n",
    "    s3 = \"!\"\n",
    "    print(s1 + s2 + s3)"
   ]
  },
  {
   "cell_type": "code",
   "execution_count": null,
   "metadata": {},
   "outputs": [],
   "source": [
    "# Your solution\n",
    "# initial variables\n",
    "s1 = \"welcome\"\n",
    "s2 = \"HOME\"\n",
    "s3 = \"!?????????\"\n",
    "\n",
    "# Question 1: \"welcome HOME !\"\n",
    "#sol1 = \n",
    "#print(\"With operator + :\", sol1)\n",
    "\n",
    "\n",
    "# Question 2 \"welcome home !\"\n",
    "#sol2 =\n",
    "#sol2 += \n",
    "#sol2 += \n",
    "#print(\"With operator += :\", sol2)\n",
    "\n",
    "\n",
    "# Question 3: \"Welcome home !\"\n",
    "import string\n",
    "#sol3 =\n",
    "#print(\"With function join() :\", sol3)"
   ]
  },
  {
   "cell_type": "markdown",
   "metadata": {},
   "source": [
    "---"
   ]
  },
  {
   "cell_type": "markdown",
   "metadata": {},
   "source": [
    "### Question 4\n",
    "1. Create the array arr1 as expected: `array([ 1.,  2.,  3.,  4.,  5.,  6.,  7.,  8.,  9., 10.])`\n",
    "\n",
    "*Hint*: use the function `linspace()` from numpy library\n",
    "\n",
    "2. Create the array arr2 as expected: `array([ 1.,  3.,  5.,  7.,  9., 11., 13., 15., 17., 19.])`\n",
    "\n",
    "*Hint*: use the function function `arange()` from numpy library\n",
    "\n",
    "3. Mean of the sum of 2 arrays\n",
    "* Create a function that compute the mean of the sum of 2 arrays\n",
    "* Create a new array arr3 with the last 5 items from array arr1: `array([ 6.,  7.,  8.,  9., 10.])`\n",
    "* Create a new array arr4 with the first 5 items of array arr2: `array([1., 3., 5., 7., 9.])`\n",
    "* Compute the mean of the sum of arr3 and arr4: `13.0`\n",
    "\n",
    "*Hint*: \n",
    "* use the operator + in order to compute the sum of the 2 arrays (element wise)\n",
    "* use function `mean()` from numpy library\n",
    "* use the method `return` in order to get the result of your function\n",
    "* use slicing on arr1 and arr2 in order to extract respectively the 2 requested arrays (arr3, ar4)\n",
    "\n"
   ]
  },
  {
   "cell_type": "code",
   "execution_count": null,
   "metadata": {},
   "outputs": [],
   "source": [
    "# Your solution\n",
    "import numpy as np\n",
    "arr1 =\n",
    "\n",
    "#arr2 =\n",
    "\n",
    "#def mean_array(array1, array2):\n",
    "\n",
    "#arr3 = \n",
    "\n",
    "#arr4 = \n",
    "\n",
    "#mean_array(arr3, arr4)"
   ]
  },
  {
   "cell_type": "markdown",
   "metadata": {},
   "source": [
    "---"
   ]
  },
  {
   "cell_type": "markdown",
   "metadata": {},
   "source": [
    "### Question 5\n",
    "Create a function with one attribute (guess):\n",
    "* generates a random integer r between 1 and 10 both included. \n",
    "* prints \"r = (value of r), too big !\" if your guess is larger than r\n",
    "* prints \"r = (value of r), too small !\" if your guess is smaller than r\n",
    "* prints \"r = (value of r), correct !\" if your guess is equal to r\n",
    "\n",
    "*Expected if random integer r = 4*:\n",
    "\n",
    "* `r = 4 , too high !` OR\n",
    "* `r = 4 , too small !` OR\n",
    "* `r = 4 , correct !`\n",
    "\n",
    "*Hint*: \n",
    "* use function `random.randint()` from random library to generate a random integer r\n",
    "* use the condition:\n",
    "\n",
    "        ìf (condition for too high):\n",
    "            print()\n",
    "        elif (condition for too small):\n",
    "            print()\n",
    "        else:\n",
    "            print()"
   ]
  },
  {
   "cell_type": "code",
   "execution_count": null,
   "metadata": {},
   "outputs": [],
   "source": [
    "# Your solution\n",
    "import random \n",
    "\n",
    "def guess_number(guess):"
   ]
  },
  {
   "cell_type": "code",
   "execution_count": null,
   "metadata": {},
   "outputs": [],
   "source": [
    "guess_number(5)"
   ]
  },
  {
   "cell_type": "markdown",
   "metadata": {},
   "source": [
    "---"
   ]
  },
  {
   "cell_type": "markdown",
   "metadata": {},
   "source": [
    "### Question 6\n",
    "Create a function with 2 attributes (length, width) that return a tuple (area, perimeter) with:\n",
    "* the area of the rectangle calculated with the 2 attributes\n",
    "* the perimeter of the rectangle calculated with the 2 attributes\n",
    "\n",
    "*Expected if length = 10 and width = 2.5*: `(25.0, 25.0)`"
   ]
  },
  {
   "cell_type": "code",
   "execution_count": null,
   "metadata": {},
   "outputs": [],
   "source": [
    "# Your solution\n",
    "def compute_rectangle_area_perimeter(length, width):"
   ]
  },
  {
   "cell_type": "code",
   "execution_count": null,
   "metadata": {},
   "outputs": [],
   "source": [
    "compute_rectangle_area_perimeter(10, 2.5)"
   ]
  },
  {
   "cell_type": "markdown",
   "metadata": {},
   "source": [
    "---"
   ]
  },
  {
   "cell_type": "markdown",
   "metadata": {},
   "source": [
    "### Question 7\n",
    "1. Create a tuple named \"keys\" as expected:`(1, 2, 3, 4, 5, 6, 7, 8, 9, 10)` using function `range()`\n",
    "\n",
    "2. Create a tuple named \"values\" as expected:`(20, 19, 18, 17, 16, 15, 14, 13, 12, 11)` using function `range()` and `reversed()`\n",
    "\n",
    "3. Create a dictionary named \"mapping\" with the 2 previous tuples using function `dict()`and `zip()` with the expected result:\n",
    "\n",
    "`{1: 20, 2: 19, 3: 18, 4: 17, 5: 16, 6: 15, 7: 14, 8: 13, 9: 12, 10: 11}`"
   ]
  },
  {
   "cell_type": "code",
   "execution_count": null,
   "metadata": {},
   "outputs": [],
   "source": [
    "# Your solution"
   ]
  },
  {
   "cell_type": "markdown",
   "metadata": {},
   "source": [
    "---"
   ]
  },
  {
   "cell_type": "markdown",
   "metadata": {},
   "source": [
    "### Question 8\n",
    "Create a function - using the function divmod()- that convert a number of seconds in a tuple (days, hours, minutes, seconds)\n",
    "\n",
    "*Expected if the number of seconds is 129000*:\n",
    "\n",
    "`(1, 11, 50, 0)`\n",
    "\n",
    "*Hint*: the function `divmod()` returns the quotient and the remainder in a single call."
   ]
  },
  {
   "cell_type": "code",
   "execution_count": null,
   "metadata": {},
   "outputs": [],
   "source": [
    "# Your solution\n",
    "def convert_seconds(num_seconds):"
   ]
  },
  {
   "cell_type": "code",
   "execution_count": 24,
   "metadata": {},
   "outputs": [
    {
     "data": {
      "text/plain": [
       "(1, 11, 50, 0)"
      ]
     },
     "execution_count": 24,
     "metadata": {},
     "output_type": "execute_result"
    }
   ],
   "source": [
    "convert_seconds(129000)"
   ]
  },
  {
   "cell_type": "markdown",
   "metadata": {},
   "source": [
    "---"
   ]
  },
  {
   "cell_type": "markdown",
   "metadata": {},
   "source": [
    "### Question 9\n",
    "Create a function that use the previous function in order to print the expected result if num_seconds = 129000:\n",
    "\n",
    "`1 day(s), 11 hour(s), 50 minute(s) and 0 second(s)`"
   ]
  },
  {
   "cell_type": "code",
   "execution_count": null,
   "metadata": {},
   "outputs": [],
   "source": [
    "# Your solution\n",
    "def convert_seconds_print(num_seconds):"
   ]
  },
  {
   "cell_type": "code",
   "execution_count": 28,
   "metadata": {},
   "outputs": [
    {
     "name": "stdout",
     "output_type": "stream",
     "text": [
      "1 day(s), 11 hour(s), 50 minute(s) and 0 second(s)\n"
     ]
    }
   ],
   "source": [
    "convert_seconds_print(129000)"
   ]
  },
  {
   "cell_type": "markdown",
   "metadata": {},
   "source": [
    "---"
   ]
  },
  {
   "cell_type": "markdown",
   "metadata": {},
   "source": [
    "### Question 10\n",
    "Create a function that computes the total number of seconds from days, hours, minutes and seconds declared as arguments\n",
    "\n",
    "*Expected result if (num_days, num_hours, num_minutes, num_seconds) = (1,2,3,4)*: `93784`"
   ]
  },
  {
   "cell_type": "code",
   "execution_count": null,
   "metadata": {},
   "outputs": [],
   "source": [
    "# Your solution\n",
    "def compute_seconds(num_days, num_hours, num_minutes, num_seconds):"
   ]
  },
  {
   "cell_type": "code",
   "execution_count": 33,
   "metadata": {},
   "outputs": [
    {
     "data": {
      "text/plain": [
       "93784"
      ]
     },
     "execution_count": 33,
     "metadata": {},
     "output_type": "execute_result"
    }
   ],
   "source": [
    "compute_seconds(1,2,3,4)"
   ]
  }
 ],
 "metadata": {
  "kernelspec": {
   "display_name": "base",
   "language": "python",
   "name": "python3"
  },
  "language_info": {
   "codemirror_mode": {
    "name": "ipython",
    "version": 3
   },
   "file_extension": ".py",
   "mimetype": "text/x-python",
   "name": "python",
   "nbconvert_exporter": "python",
   "pygments_lexer": "ipython3",
   "version": "3.10.8"
  },
  "orig_nbformat": 4
 },
 "nbformat": 4,
 "nbformat_minor": 2
}
